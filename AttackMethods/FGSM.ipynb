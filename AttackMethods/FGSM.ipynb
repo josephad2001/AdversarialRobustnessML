{
 "cells": [
  {
   "cell_type": "code",
   "execution_count": 2,
   "metadata": {},
   "outputs": [],
   "source": [
    "import tensorflow as tf\n",
    "def generate_fgsm(image, model, epsilon):\n",
    "    # Ensure the image has the correct shape (e.g., [1, 32, 32, 3] for CIFAR-10)\n",
    "    image = tf.convert_to_tensor(image)\n",
    "    image = tf.reshape(image, (1, *image.shape))\n",
    "\n",
    "    with tf.GradientTape() as tape:\n",
    "        tape.watch(image)\n",
    "        prediction = model(image)\n",
    "        target_class = tf.argmax(prediction[0])\n",
    "        loss = tf.keras.losses.sparse_categorical_crossentropy(target_class, prediction)\n",
    "\n",
    "    gradient = tape.gradient(loss, image)\n",
    "    signed_grad = tf.sign(gradient)\n",
    "    perturbed_image = image + epsilon * signed_grad\n",
    "    perturbed_image = tf.clip_by_value(perturbed_image, 0, 1)  # Ensure pixel values are in [0, 1] range\n",
    "\n",
    "    return perturbed_image.numpy()[0]"
   ]
  },
  {
   "cell_type": "markdown",
   "metadata": {},
   "source": [
    "# Test on image from numbers dataset"
   ]
  },
  {
   "cell_type": "code",
   "execution_count": 1,
   "metadata": {},
   "outputs": [
    {
     "data": {
      "text/plain": [
       "4"
      ]
     },
     "execution_count": 1,
     "metadata": {},
     "output_type": "execute_result"
    }
   ],
   "source": [
    "import tensorflow as tf\n",
    "import numpy as np\n",
    "import matplotlib.pyplot as plt\n",
    "\n",
    "# Load the FCN model you created earlier\n",
    "fcn_model = tf.keras.models.load_model(\"mnist_model.h5\")\n",
    "\n",
    "# Load the MNIST dataset\n",
    "mnist = tf.keras.datasets.mnist\n",
    "(_, _), (test_images, test_labels) = mnist.load_data()\n",
    "test_images = test_images / 255.0  # Preprocess the data\n",
    "\n",
    "# Select a random image from the test dataset\n",
    "random_index = np.random.randint(0, len(test_images))\n",
    "input_image = test_images[random_index]\n",
    "original_label = test_labels[random_index]\n",
    "\n",
    "# Define an epsilon value for the FGSM attack\n",
    "epsilon = 0.1\n",
    "\n",
    "# Use the generate_fgsm function to generate a perturbed image\n",
    "perturbed_image = generate_fgsm(input_image, fcn_model, epsilon)\n",
    "\n",
    "# Calculate the difference between the original and perturbed images\n",
    "difference_image = input_image - perturbed_image\n",
    "\n",
    "# Perform inference on the perturbed image\n",
    "perturbed_image = perturbed_image[np.newaxis, ...]  # Add a batch dimension\n",
    "predictions = fcn_model.predict(perturbed_image)\n",
    "\n",
    "# Get the predicted class label\n",
    "predicted_label = np.argmax(predictions)\n",
    "confidence = np.max(predictions)\n",
    "\n",
    "# Display the original image, perturbed image, and the difference\n",
    "plt.figure(figsize=(12, 4))\n",
    "plt.subplot(131)\n",
    "plt.imshow(input_image, cmap='gray')\n",
    "plt.title(f'Original Label: {original_label}')\n",
    "plt.axis('off')\n",
    "\n",
    "plt.subplot(132)\n",
    "plt.imshow(perturbed_image[0, :, :, 0], cmap='gray')\n",
    "plt.title(f'Predicted Label: {predicted_label}\\n(with confidence: {confidence:.2f})')\n",
    "plt.axis('off')\n",
    "\n",
    "plt.subplot(133)\n",
    "plt.imshow(difference_image[0, :, :, 0], cmap='coolwarm', vmin=-1, vmax=1)\n",
    "plt.title('Difference Image')\n",
    "plt.axis('off')\n",
    "\n",
    "plt.show()"
   ]
  }
 ],
 "metadata": {
  "kernelspec": {
   "display_name": "env",
   "language": "python",
   "name": "python3"
  },
  "language_info": {
   "codemirror_mode": {
    "name": "ipython",
    "version": 3
   },
   "file_extension": ".py",
   "mimetype": "text/x-python",
   "name": "python",
   "nbconvert_exporter": "python",
   "pygments_lexer": "ipython3",
   "version": "3.11.5"
  },
  "orig_nbformat": 4
 },
 "nbformat": 4,
 "nbformat_minor": 2
}

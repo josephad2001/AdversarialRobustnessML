{
 "cells": [
  {
   "cell_type": "code",
   "execution_count": null,
   "metadata": {},
   "outputs": [],
   "source": [
    "import copy\n",
    "import torch\n",
    "\n",
    "def fgsm_attack(image, model, epsilon=0.02):\n",
    "    # Clone the image to avoid modifying the original\n",
    "    perturbed_image = image.clone().detach()\n",
    "    \n",
    "    # Forward pass to get the network's predictions\n",
    "    original_predictions = model(perturbed_image)\n",
    "    \n",
    "    # Get the predicted class label\n",
    "    original_label = original_predictions.max(1)[1].item()\n",
    "\n",
    "    # Calculate the gradients\n",
    "    loss = torch.nn.CrossEntropyLoss()\n",
    "    loss_value = loss(original_predictions, torch.tensor([original_label]))\n",
    "    loss_value.backward()\n",
    "    \n",
    "    # Calculate the sign of the gradient\n",
    "    gradient_sign = perturbed_image.grad.sign()\n",
    "    \n",
    "    # Create the perturbation\n",
    "    perturbation = epsilon * gradient_sign\n",
    "    \n",
    "    # Apply the perturbation to the image\n",
    "    perturbed_image = image + perturbation\n",
    "    \n",
    "    # Get the model's predictions for the perturbed image\n",
    "    perturbed_predictions = model(perturbed_image)\n",
    "    \n",
    "    # Get the predicted class label for the perturbed image\n",
    "    perturbed_label = perturbed_predictions.max(1)[1].item()\n",
    "    \n",
    "    return perturbation, original_label, perturbed_label, perturbed_image"
   ]
  }
 ],
 "metadata": {
  "kernelspec": {
   "display_name": "env",
   "language": "python",
   "name": "python3"
  },
  "language_info": {
   "name": "python",
   "version": "3.11.5"
  },
  "orig_nbformat": 4
 },
 "nbformat": 4,
 "nbformat_minor": 2
}
